{
  "nbformat": 4,
  "nbformat_minor": 0,
  "metadata": {
    "colab": {
      "name": "PS1/1.ipynb",
      "provenance": []
    },
    "kernelspec": {
      "name": "python3",
      "display_name": "Python 3"
    },
    "language_info": {
      "name": "python"
    },
    "accelerator": "GPU"
  },
  "cells": [
    {
      "cell_type": "code",
      "metadata": {
        "id": "zJaga47zzoXO"
      },
      "source": [
        "import numpy as np\n",
        "import pandas as pd\n",
        "import matplotlib.pyplot as plt\n",
        "import seaborn as sns"
      ],
      "execution_count": 1,
      "outputs": []
    },
    {
      "cell_type": "code",
      "metadata": {
        "id": "dzoF7vj-0mvS"
      },
      "source": [
        "df = pd.read_csv('/content/drive/MyDrive/HackerEarth/dataset/train.csv')"
      ],
      "execution_count": 2,
      "outputs": []
    },
    {
      "cell_type": "code",
      "metadata": {
        "colab": {
          "base_uri": "https://localhost:8080/",
          "height": 204
        },
        "id": "f1pi_olL1bId",
        "outputId": "83ee5721-6ed6-48ab-899f-68c87b92faf5"
      },
      "source": [
        "df.head()"
      ],
      "execution_count": 3,
      "outputs": [
        {
          "output_type": "execute_result",
          "data": {
            "text/html": [
              "<div>\n",
              "<style scoped>\n",
              "    .dataframe tbody tr th:only-of-type {\n",
              "        vertical-align: middle;\n",
              "    }\n",
              "\n",
              "    .dataframe tbody tr th {\n",
              "        vertical-align: top;\n",
              "    }\n",
              "\n",
              "    .dataframe thead th {\n",
              "        text-align: right;\n",
              "    }\n",
              "</style>\n",
              "<table border=\"1\" class=\"dataframe\">\n",
              "  <thead>\n",
              "    <tr style=\"text-align: right;\">\n",
              "      <th></th>\n",
              "      <th>Image</th>\n",
              "      <th>Class</th>\n",
              "    </tr>\n",
              "  </thead>\n",
              "  <tbody>\n",
              "    <tr>\n",
              "      <th>0</th>\n",
              "      <td>image3476.jpg</td>\n",
              "      <td>Miscellaneous</td>\n",
              "    </tr>\n",
              "    <tr>\n",
              "      <th>1</th>\n",
              "      <td>image5198.jpg</td>\n",
              "      <td>Candle</td>\n",
              "    </tr>\n",
              "    <tr>\n",
              "      <th>2</th>\n",
              "      <td>image4183.jpg</td>\n",
              "      <td>Snowman</td>\n",
              "    </tr>\n",
              "    <tr>\n",
              "      <th>3</th>\n",
              "      <td>image1806.jpg</td>\n",
              "      <td>Miscellaneous</td>\n",
              "    </tr>\n",
              "    <tr>\n",
              "      <th>4</th>\n",
              "      <td>image7831.jpg</td>\n",
              "      <td>Miscellaneous</td>\n",
              "    </tr>\n",
              "  </tbody>\n",
              "</table>\n",
              "</div>"
            ],
            "text/plain": [
              "           Image          Class\n",
              "0  image3476.jpg  Miscellaneous\n",
              "1  image5198.jpg         Candle\n",
              "2  image4183.jpg        Snowman\n",
              "3  image1806.jpg  Miscellaneous\n",
              "4  image7831.jpg  Miscellaneous"
            ]
          },
          "metadata": {
            "tags": []
          },
          "execution_count": 3
        }
      ]
    },
    {
      "cell_type": "code",
      "metadata": {
        "id": "qNoGKHrF1csk"
      },
      "source": [
        "train_dir = '/content/drive/MyDrive/HackerEarth/dataset/train'\n",
        "test_dir = '/content/drive/MyDrive/HackerEarth/dataset/test'"
      ],
      "execution_count": 4,
      "outputs": []
    },
    {
      "cell_type": "code",
      "metadata": {
        "id": "Rj0J-CNj1jsr"
      },
      "source": [
        "import cv2"
      ],
      "execution_count": 5,
      "outputs": []
    },
    {
      "cell_type": "code",
      "metadata": {
        "id": "HW3pAY3A2RPd"
      },
      "source": [
        "import numpy as np\n",
        "import pandas as pd\n",
        "import tensorflow as tf\n",
        "import matplotlib.pyplot as plt\n",
        "import cv2\n",
        "from tensorflow.keras.layers import Dropout, Conv2D, Dense, MaxPooling2D, AveragePooling2D, Flatten, BatchNormalization\n",
        "from tensorflow.keras import Sequential\n",
        "from tensorflow.keras.applications import NASNetLarge\n",
        "from tensorflow.keras.preprocessing.image import ImageDataGenerator\n",
        "from tensorflow.keras.optimizers import Adam\n",
        "import os\n",
        "import random"
      ],
      "execution_count": 6,
      "outputs": []
    },
    {
      "cell_type": "code",
      "metadata": {
        "id": "u8N7FEWF4Kjr"
      },
      "source": [
        "datagen = ImageDataGenerator(rescale=1./255., validation_split=0.2)"
      ],
      "execution_count": 7,
      "outputs": []
    },
    {
      "cell_type": "code",
      "metadata": {
        "colab": {
          "base_uri": "https://localhost:8080/"
        },
        "id": "eSuN97RV5SnK",
        "outputId": "3c9e62e3-5ba3-4cc8-caae-e450c7bc2485"
      },
      "source": [
        "train_gen = datagen.flow_from_dataframe(df,\n",
        "                                       directory=train_dir,\n",
        "                                       x_col='Image',\n",
        "                                       y_col='Class',\n",
        "                                       color_mode='rgb',\n",
        "                                       target_size=(331,331),\n",
        "                                       class_mode='categorical',\n",
        "                                       shuffle=True,\n",
        "                                       subset='training',\n",
        "                                       batch_size=128)"
      ],
      "execution_count": 8,
      "outputs": [
        {
          "output_type": "stream",
          "text": [
            "Found 5176 validated image filenames belonging to 6 classes.\n"
          ],
          "name": "stdout"
        }
      ]
    },
    {
      "cell_type": "code",
      "metadata": {
        "colab": {
          "base_uri": "https://localhost:8080/"
        },
        "id": "I-xcaSKF57G6",
        "outputId": "ffb431a3-088b-48d9-a5dc-01990d460367"
      },
      "source": [
        "\n",
        "val_gen = datagen.flow_from_dataframe(df,\n",
        "                                    directory=train_dir,\n",
        "                                    x_col='Image',\n",
        "                                    y_col='Class',\n",
        "                                    color_mode='rgb',\n",
        "                                    target_size=(331,331),\n",
        "                                    class_mode='categorical',\n",
        "                                    shuffle=True,\n",
        "                                    subset='validation',\n",
        "                                    batch_size=128)"
      ],
      "execution_count": 9,
      "outputs": [
        {
          "output_type": "stream",
          "text": [
            "Found 1293 validated image filenames belonging to 6 classes.\n"
          ],
          "name": "stdout"
        }
      ]
    },
    {
      "cell_type": "code",
      "metadata": {
        "id": "H9Q7ZLx_6HQY"
      },
      "source": [
        "from keras.applications.vgg16 import VGG16"
      ],
      "execution_count": 10,
      "outputs": []
    },
    {
      "cell_type": "code",
      "metadata": {
        "colab": {
          "base_uri": "https://localhost:8080/"
        },
        "id": "-GF-iohT6nzZ",
        "outputId": "54b131d1-5d32-41d0-d373-0a8e548ba70e"
      },
      "source": [
        "model_vg=VGG16(weights='imagenet',include_top=False)\n",
        "model_vg.summary()"
      ],
      "execution_count": 11,
      "outputs": [
        {
          "output_type": "stream",
          "text": [
            "Model: \"vgg16\"\n",
            "_________________________________________________________________\n",
            "Layer (type)                 Output Shape              Param #   \n",
            "=================================================================\n",
            "input_1 (InputLayer)         [(None, None, None, 3)]   0         \n",
            "_________________________________________________________________\n",
            "block1_conv1 (Conv2D)        (None, None, None, 64)    1792      \n",
            "_________________________________________________________________\n",
            "block1_conv2 (Conv2D)        (None, None, None, 64)    36928     \n",
            "_________________________________________________________________\n",
            "block1_pool (MaxPooling2D)   (None, None, None, 64)    0         \n",
            "_________________________________________________________________\n",
            "block2_conv1 (Conv2D)        (None, None, None, 128)   73856     \n",
            "_________________________________________________________________\n",
            "block2_conv2 (Conv2D)        (None, None, None, 128)   147584    \n",
            "_________________________________________________________________\n",
            "block2_pool (MaxPooling2D)   (None, None, None, 128)   0         \n",
            "_________________________________________________________________\n",
            "block3_conv1 (Conv2D)        (None, None, None, 256)   295168    \n",
            "_________________________________________________________________\n",
            "block3_conv2 (Conv2D)        (None, None, None, 256)   590080    \n",
            "_________________________________________________________________\n",
            "block3_conv3 (Conv2D)        (None, None, None, 256)   590080    \n",
            "_________________________________________________________________\n",
            "block3_pool (MaxPooling2D)   (None, None, None, 256)   0         \n",
            "_________________________________________________________________\n",
            "block4_conv1 (Conv2D)        (None, None, None, 512)   1180160   \n",
            "_________________________________________________________________\n",
            "block4_conv2 (Conv2D)        (None, None, None, 512)   2359808   \n",
            "_________________________________________________________________\n",
            "block4_conv3 (Conv2D)        (None, None, None, 512)   2359808   \n",
            "_________________________________________________________________\n",
            "block4_pool (MaxPooling2D)   (None, None, None, 512)   0         \n",
            "_________________________________________________________________\n",
            "block5_conv1 (Conv2D)        (None, None, None, 512)   2359808   \n",
            "_________________________________________________________________\n",
            "block5_conv2 (Conv2D)        (None, None, None, 512)   2359808   \n",
            "_________________________________________________________________\n",
            "block5_conv3 (Conv2D)        (None, None, None, 512)   2359808   \n",
            "_________________________________________________________________\n",
            "block5_pool (MaxPooling2D)   (None, None, None, 512)   0         \n",
            "=================================================================\n",
            "Total params: 14,714,688\n",
            "Trainable params: 14,714,688\n",
            "Non-trainable params: 0\n",
            "_________________________________________________________________\n"
          ],
          "name": "stdout"
        }
      ]
    },
    {
      "cell_type": "code",
      "metadata": {
        "colab": {
          "base_uri": "https://localhost:8080/"
        },
        "id": "C5ViEwgo_F25",
        "outputId": "3b67ac76-a374-4274-c735-e63ec774d77d"
      },
      "source": [
        "base_layer = NASNetLarge(pooling='avg', weights='imagenet', include_top=True)\n",
        "\n",
        "model = Sequential([base_layer,\n",
        "                   Dense(units = 512, activation='relu'),\n",
        "                   Dropout(0.4),\n",
        "                   Dense(units = 256, activation='relu'),\n",
        "                   Dropout(0.3),\n",
        "                   Dense(units=6, activation='softmax')])\n",
        "\n",
        "model.layers[0].trainable=False\n",
        "\n",
        "opt = Adam(lr=1e-3, decay=1e-5)\n",
        "\n",
        "model.compile(optimizer=opt, loss='categorical_crossentropy', metrics=['accuracy'])\n",
        "\n",
        "model.summary()"
      ],
      "execution_count": 13,
      "outputs": [
        {
          "output_type": "stream",
          "text": [
            "Downloading data from https://storage.googleapis.com/tensorflow/keras-applications/nasnet/NASNet-large.h5\n",
            "359751680/359748576 [==============================] - 2s 0us/step\n",
            "Model: \"sequential_1\"\n",
            "_________________________________________________________________\n",
            "Layer (type)                 Output Shape              Param #   \n",
            "=================================================================\n",
            "NASNet (Functional)          (None, 1000)              88949818  \n",
            "_________________________________________________________________\n",
            "dense_3 (Dense)              (None, 512)               512512    \n",
            "_________________________________________________________________\n",
            "dropout_2 (Dropout)          (None, 512)               0         \n",
            "_________________________________________________________________\n",
            "dense_4 (Dense)              (None, 256)               131328    \n",
            "_________________________________________________________________\n",
            "dropout_3 (Dropout)          (None, 256)               0         \n",
            "_________________________________________________________________\n",
            "dense_5 (Dense)              (None, 6)                 1542      \n",
            "=================================================================\n",
            "Total params: 89,595,200\n",
            "Trainable params: 645,382\n",
            "Non-trainable params: 88,949,818\n",
            "_________________________________________________________________\n"
          ],
          "name": "stdout"
        }
      ]
    },
    {
      "cell_type": "code",
      "metadata": {
        "colab": {
          "base_uri": "https://localhost:8080/"
        },
        "id": "RoTl1vvQ83SI",
        "outputId": "3a9cd401-3440-4a25-d55b-334968156cce"
      },
      "source": [
        "history = model.fit(train_gen, validation_data=val_gen, epochs=10)"
      ],
      "execution_count": 14,
      "outputs": [
        {
          "output_type": "stream",
          "text": [
            "Epoch 1/10\n",
            "41/41 [==============================] - 1881s 45s/step - loss: 1.5719 - accuracy: 0.3933 - val_loss: 1.0403 - val_accuracy: 0.6489\n",
            "Epoch 2/10\n",
            "41/41 [==============================] - 174s 4s/step - loss: 0.8400 - accuracy: 0.7249 - val_loss: 0.6605 - val_accuracy: 0.7657\n",
            "Epoch 3/10\n",
            "41/41 [==============================] - 181s 4s/step - loss: 0.5666 - accuracy: 0.7975 - val_loss: 0.6363 - val_accuracy: 0.7788\n",
            "Epoch 4/10\n",
            "41/41 [==============================] - 182s 4s/step - loss: 0.5003 - accuracy: 0.8200 - val_loss: 0.6197 - val_accuracy: 0.7896\n",
            "Epoch 5/10\n",
            "41/41 [==============================] - 182s 4s/step - loss: 0.4356 - accuracy: 0.8439 - val_loss: 0.6127 - val_accuracy: 0.8105\n",
            "Epoch 6/10\n",
            "41/41 [==============================] - 182s 4s/step - loss: 0.4059 - accuracy: 0.8524 - val_loss: 0.6212 - val_accuracy: 0.8090\n",
            "Epoch 7/10\n",
            "41/41 [==============================] - 182s 4s/step - loss: 0.3576 - accuracy: 0.8708 - val_loss: 0.6426 - val_accuracy: 0.8059\n",
            "Epoch 8/10\n",
            "41/41 [==============================] - 182s 4s/step - loss: 0.3806 - accuracy: 0.8540 - val_loss: 0.6642 - val_accuracy: 0.8067\n",
            "Epoch 9/10\n",
            "41/41 [==============================] - 182s 4s/step - loss: 0.3189 - accuracy: 0.8793 - val_loss: 0.6966 - val_accuracy: 0.8082\n",
            "Epoch 10/10\n",
            "41/41 [==============================] - 182s 4s/step - loss: 0.3329 - accuracy: 0.8698 - val_loss: 0.6938 - val_accuracy: 0.8012\n"
          ],
          "name": "stdout"
        }
      ]
    },
    {
      "cell_type": "code",
      "metadata": {
        "colab": {
          "base_uri": "https://localhost:8080/"
        },
        "id": "LkF4kba29CwP",
        "outputId": "4f8d726c-227c-4aae-dd6b-7c53fc57b06f"
      },
      "source": [
        "results = model.evaluate(val_gen)\n",
        "print(\"val_loss, val_acc: \", results)"
      ],
      "execution_count": 15,
      "outputs": [
        {
          "output_type": "stream",
          "text": [
            "11/11 [==============================] - 37s 3s/step - loss: 0.6938 - accuracy: 0.8012\n",
            "val_loss, val_acc:  [0.693831205368042, 0.8012374043464661]\n"
          ],
          "name": "stdout"
        }
      ]
    },
    {
      "cell_type": "code",
      "metadata": {
        "colab": {
          "base_uri": "https://localhost:8080/",
          "height": 541
        },
        "id": "VEYfPx0ANXPV",
        "outputId": "07ba90e6-09aa-4ded-8cb8-1faa4593e2d1"
      },
      "source": [
        "plt.plot(history.history['val_accuracy'], label='Validation Accuracy')\n",
        "plt.plot(history.history['accuracy'], label='Accuracy')\n",
        "plt.xlabel('Epochs')\n",
        "plt.ylabel('Accuracy')\n",
        "plt.legend(borderpad=2)\n",
        "plt.show()\n",
        "plt.plot(history.history['val_loss'], label='Validation Loss')\n",
        "plt.plot(history.history['loss'], label='Loss')\n",
        "plt.xlabel('Epochs')\n",
        "plt.ylabel('Loss')\n",
        "plt.legend(borderpad=2)\n",
        "plt.show()"
      ],
      "execution_count": 16,
      "outputs": [
        {
          "output_type": "display_data",
          "data": {
            "image/png": "[encoded data removed]",
            "text/plain": [
              "<Figure size 432x288 with 1 Axes>"
            ]
          },
          "metadata": {
            "tags": [],
            "needs_background": "light"
          }
        },
        {
          "output_type": "display_data",
          "data": {
            "image/png": "[encoded data removed]",
            "text/plain": [
              "<Figure size 432x288 with 1 Axes>"
            ]
          },
          "metadata": {
            "tags": [],
            "needs_background": "light"
          }
        }
      ]
    },
    {
      "cell_type": "code",
      "metadata": {
        "id": "NdeHRQ0GNstb"
      },
      "source": [
        "\n",
        "def preprocess(path):\n",
        "    img = cv2.imread(path)\n",
        "    img = cv2.cvtColor(img, cv2.COLOR_BGR2RGB)\n",
        "    img = cv2.resize(img, (331, 331))\n",
        "    img = img/255.\n",
        "    return img"
      ],
      "execution_count": 17,
      "outputs": []
    },
    {
      "cell_type": "code",
      "metadata": {
        "colab": {
          "base_uri": "https://localhost:8080/"
        },
        "id": "6l-RRRMiN5xR",
        "outputId": "547a5d6d-98b5-4f12-d585-c438a4cb20cf"
      },
      "source": [
        "old_labels = train_gen.class_indices\n",
        "NUM_TO_LABEL = dict((v,k) for k,v in old_labels.items())\n",
        "NUM_TO_LABEL"
      ],
      "execution_count": 18,
      "outputs": [
        {
          "output_type": "execute_result",
          "data": {
            "text/plain": [
              "{0: 'Airplane',\n",
              " 1: 'Candle',\n",
              " 2: 'Christmas_Tree',\n",
              " 3: 'Jacket',\n",
              " 4: 'Miscellaneous',\n",
              " 5: 'Snowman'}"
            ]
          },
          "metadata": {
            "tags": []
          },
          "execution_count": 18
        }
      ]
    },
    {
      "cell_type": "code",
      "metadata": {
        "id": "jTOWsAY0ObjC"
      },
      "source": [
        "model.save('PS1.h5')"
      ],
      "execution_count": 26,
      "outputs": []
    },
    {
      "cell_type": "code",
      "metadata": {
        "colab": {
          "base_uri": "https://localhost:8080/",
          "height": 34
        },
        "id": "-GhWuTEqOyTT",
        "outputId": "aec6fa61-48c6-42c0-a381-c59792f28955"
      },
      "source": [
        "from google.colab import files\n",
        "files.download(\"PS1.h5\")\n"
      ],
      "execution_count": 27,
      "outputs": [
        {
          "output_type": "display_data",
          "data": {
            "application/javascript": [
              "\n",
              "    async function download(id, filename, size) {\n",
              "      if (!google.colab.kernel.accessAllowed) {\n",
              "        return;\n",
              "      }\n",
              "      const div = document.createElement('div');\n",
              "      const label = document.createElement('label');\n",
              "      label.textContent = `Downloading \"${filename}\": `;\n",
              "      div.appendChild(label);\n",
              "      const progress = document.createElement('progress');\n",
              "      progress.max = size;\n",
              "      div.appendChild(progress);\n",
              "      document.body.appendChild(div);\n",
              "\n",
              "      const buffers = [];\n",
              "      let downloaded = 0;\n",
              "\n",
              "      const channel = await google.colab.kernel.comms.open(id);\n",
              "      // Send a message to notify the kernel that we're ready.\n",
              "      channel.send({})\n",
              "\n",
              "      for await (const message of channel.messages) {\n",
              "        // Send a message to notify the kernel that we're ready.\n",
              "        channel.send({})\n",
              "        if (message.buffers) {\n",
              "          for (const buffer of message.buffers) {\n",
              "            buffers.push(buffer);\n",
              "            downloaded += buffer.byteLength;\n",
              "            progress.value = downloaded;\n",
              "          }\n",
              "        }\n",
              "      }\n",
              "      const blob = new Blob(buffers, {type: 'application/binary'});\n",
              "      const a = document.createElement('a');\n",
              "      a.href = window.URL.createObjectURL(blob);\n",
              "      a.download = filename;\n",
              "      div.appendChild(a);\n",
              "      a.click();\n",
              "      div.remove();\n",
              "    }\n",
              "  "
            ],
            "text/plain": [
              "<IPython.core.display.Javascript object>"
            ]
          },
          "metadata": {
            "tags": []
          }
        },
        {
          "output_type": "display_data",
          "data": {
            "application/javascript": [
              "download(\"download_ac05b962-c361-4a0e-84b2-b2fcc94fc0c8\", \"PS1.h5\", 365274976)"
            ],
            "text/plain": [
              "<IPython.core.display.Javascript object>"
            ]
          },
          "metadata": {
            "tags": []
          }
        }
      ]
    },
    {
      "cell_type": "code",
      "metadata": {
        "id": "G_ken2AKPEuS"
      },
      "source": [
        ""
      ],
      "execution_count": null,
      "outputs": []
    }
  ]
}